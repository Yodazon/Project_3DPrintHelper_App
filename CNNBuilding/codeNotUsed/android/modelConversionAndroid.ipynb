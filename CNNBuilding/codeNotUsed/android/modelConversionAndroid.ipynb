{
 "cells": [
  {
   "cell_type": "markdown",
   "metadata": {},
   "source": [
    "Following code is meant to convert a pytorch model of filetype (.pth) into something an Android app can read\n",
    "\n",
    "On April 2, 2024 - Following this medium article to figure it out (https://medium.com/@adrian.errea.lopez/from-pytorch-model-to-mobile-application-50bc5729ed83)"
   ]
  },
  {
   "cell_type": "code",
   "execution_count": 8,
   "metadata": {},
   "outputs": [],
   "source": [
    "#import proper Libraries needed for Conversion to TorchScript Model\n",
    "import os\n",
    "\n",
    "import pyTorchModel as py\n",
    "import torch\n",
    "from torch.utils.mobile_optimizer import optimize_for_mobile"
   ]
  },
  {
   "cell_type": "code",
   "execution_count": null,
   "metadata": {},
   "outputs": [],
   "source": [
    "#Loading my model for conversion\n",
    "\n",
    "\n",
    "# Get the parent directory of the current directory (streamlit)\n",
    "parent_dir = os.getcwd()\n",
    "# Construct the path to the model weights in the CNNBuilding folder\n",
    "model_weights_path = os.path.join(parent_dir, \"..\\..\", \"models_in_folder\", \"CNNModelV0_2.pth\")\n",
    "print (model_weights_path)\n",
    "model = py.pyTorchModel()\n",
    "model.load_state_dict(torch.load(model_weights_path, map_location=torch.device('cpu')))\n",
    "\n",
    "model.eval()\n"
   ]
  },
  {
   "cell_type": "code",
   "execution_count": 11,
   "metadata": {},
   "outputs": [],
   "source": [
    "#Conversion of Model\n",
    "scripted_model = torch.jit.script(model)\n",
    "optimized_scripted_module = optimize_for_mobile(scripted_model)\n",
    "\n",
    "# using optimized lite interpreter model makes inference about 60% faster than the non-optimized lite interpreter model, which is about 6% faster than the non-optimized full jit model\n",
    "optimized_scripted_module._save_for_lite_interpreter(\"CNN_ModelV0_2_Lite.ptl\")\n"
   ]
  }
 ],
 "metadata": {
  "kernelspec": {
   "display_name": "Python 3",
   "language": "python",
   "name": "python3"
  },
  "language_info": {
   "codemirror_mode": {
    "name": "ipython",
    "version": 3
   },
   "file_extension": ".py",
   "mimetype": "text/x-python",
   "name": "python",
   "nbconvert_exporter": "python",
   "pygments_lexer": "ipython3",
   "version": "3.11.8"
  }
 },
 "nbformat": 4,
 "nbformat_minor": 2
}
